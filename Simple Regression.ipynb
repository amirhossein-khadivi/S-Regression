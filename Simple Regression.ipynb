{
 "cells": [
  {
   "cell_type": "markdown",
   "id": "graduate-tourist",
   "metadata": {},
   "source": [
    "## Simple Linear Regression\n",
    "\n",
    "#### Author : Amirhossein Khadivi\n",
    "\n",
    "[linkedin]:https://linkedin.com/in/amirhossein-khadivi\n",
    "\n",
    "##### [Linkedin][linkedin]\n",
    "\n",
    "[github]:https://github.com/amirhossein-khadivi\n",
    "\n",
    "##### [Github][github]"
   ]
  },
  {
   "cell_type": "markdown",
   "id": "western-finish",
   "metadata": {},
   "source": [
    "####  به آرایه تبدیل میکنیم Numpy  ابتدا داده ها را فراخوانی کرده و در یک متغیر ذخیره میکنیم و سپس داده ها با کمک کتابخانه"
   ]
  },
  {
   "cell_type": "code",
   "execution_count": 3,
   "id": "dutch-standing",
   "metadata": {},
   "outputs": [
    {
     "data": {
      "text/plain": [
       "array([[ 23.,   1.],\n",
       "       [ 29.,   2.],\n",
       "       [ 49.,   3.],\n",
       "       [ 64.,   4.],\n",
       "       [ 74.,   4.],\n",
       "       [ 87.,   5.],\n",
       "       [ 96.,   6.],\n",
       "       [ 97.,   6.],\n",
       "       [109.,   7.],\n",
       "       [119.,   8.],\n",
       "       [149.,   9.],\n",
       "       [145.,   9.],\n",
       "       [154.,  10.],\n",
       "       [166.,  10.]])"
      ]
     },
     "execution_count": 3,
     "metadata": {},
     "output_type": "execute_result"
    }
   ],
   "source": [
    "import numpy as np\n",
    "data = np.loadtxt(\"C:\\\\Users\\\\Persian\\\\Desktop\\\\P031.txt\" ,skiprows = 1)\n",
    "data"
   ]
  },
  {
   "cell_type": "markdown",
   "id": "uniform-pledge",
   "metadata": {},
   "source": [
    "### حال هر ستون داده را در یک متغیر با نام مربوط ذخیره میکنیم ، همچنین ابعاد داده ها را اصلاح میکنیم"
   ]
  },
  {
   "cell_type": "code",
   "execution_count": 4,
   "id": "peaceful-printing",
   "metadata": {},
   "outputs": [],
   "source": [
    "Minutes = np.array(data[:,0]).reshape(14,1)\n",
    "Units = np.array(data[:,1]).reshape(14,1)"
   ]
  },
  {
   "cell_type": "markdown",
   "id": "applicable-testing",
   "metadata": {},
   "source": [
    "### میخواهیم یک مدل خطی ساده بین متغیر طول مدت سرویس و تعداد قطعات تعویض یا تعمیرشده ارائه دهیم\n",
    "### نمودار پراکنش مدت زمان سرویس را در مقابل تعداد قطعات تعمیر یا تعویض شده رسم میکنیم Matplotlib ابتدا با کمک کتابخانه"
   ]
  },
  {
   "cell_type": "code",
   "execution_count": 5,
   "id": "baking-boutique",
   "metadata": {},
   "outputs": [
    {
     "data": {
      "image/png": "[encoded data removed]",
      "text/plain": [
       "<Figure size 432x288 with 1 Axes>"
      ]
     },
     "metadata": {
      "needs_background": "light"
     },
     "output_type": "display_data"
    }
   ],
   "source": [
    "import matplotlib.pyplot as plt\n",
    "plt.scatter(x = data[:,1] , y = data[:,0])\n",
    "plt.show()"
   ]
  },
  {
   "cell_type": "markdown",
   "id": "decimal-crowd",
   "metadata": {},
   "source": [
    "### با توجه با نمودار یک رابطه خطی میان دو متغیر مشاهده میشود"
   ]
  },
  {
   "cell_type": "markdown",
   "id": "dated-textbook",
   "metadata": {},
   "source": [
    "### ضریب همبستگی پیرسون را محاسبه میکنیم scipy با کمک کتابخانه"
   ]
  },
  {
   "cell_type": "code",
   "execution_count": 6,
   "id": "hired-think",
   "metadata": {},
   "outputs": [
    {
     "data": {
      "text/plain": [
       "(0.9936987461308754, 8.916254348358006e-13)"
      ]
     },
     "execution_count": 6,
     "metadata": {},
     "output_type": "execute_result"
    }
   ],
   "source": [
    "import scipy.stats as ss\n",
    "ss.pearsonr(x = data[:,1] , y = data[:,0]) "
   ]
  },
  {
   "cell_type": "markdown",
   "id": "stunning-commander",
   "metadata": {},
   "source": [
    "### با توجه به ضریب همبستگی دو متغیر نیز یک رابطه خطی مستقیم قوی بین متغیرها وجود دارد"
   ]
  },
  {
   "cell_type": "markdown",
   "id": "forward-newark",
   "metadata": {},
   "source": [
    "### یک مدل خطی برای داده هایمان برازش میدهیم statmodels با کمک کتابخانه\n",
    "### در این مدل متغیر پاسخ ، مدت زمان سرویس و متغیر توضیحی ، تعداد قطعات تعمیر یا تعویض شده میباشد\n",
    "### عرض از مبدا را به مدل اضافه میکنیم add_constant به صورت پیشفرض مدل را بدون عرض از مبدا برازش میدهد ، بنابراین با تابع OLS تابع"
   ]
  },
  {
   "cell_type": "code",
   "execution_count": 7,
   "id": "democratic-raleigh",
   "metadata": {},
   "outputs": [
    {
     "name": "stderr",
     "output_type": "stream",
     "text": [
      "C:\\Users\\Persian\\Anaconda3\\envs\\Rpy\\lib\\site-packages\\scipy\\stats\\stats.py:1603: UserWarning: kurtosistest only valid for n>=20 ... continuing anyway, n=14\n",
      "  warnings.warn(\"kurtosistest only valid for n>=20 ... continuing \"\n"
     ]
    },
    {
     "data": {
      "text/html": [
       "<table class=\"simpletable\">\n",
       "<caption>OLS Regression Results</caption>\n",
       "<tr>\n",
       "  <th>Dep. Variable:</th>            <td>y</td>        <th>  R-squared:         </th> <td>   0.987</td>\n",
       "</tr>\n",
       "<tr>\n",
       "  <th>Model:</th>                   <td>OLS</td>       <th>  Adj. R-squared:    </th> <td>   0.986</td>\n",
       "</tr>\n",
       "<tr>\n",
       "  <th>Method:</th>             <td>Least Squares</td>  <th>  F-statistic:       </th> <td>   943.2</td>\n",
       "</tr>\n",
       "<tr>\n",
       "  <th>Date:</th>             <td>Sat, 05 Mar 2022</td> <th>  Prob (F-statistic):</th> <td>8.92e-13</td>\n",
       "</tr>\n",
       "<tr>\n",
       "  <th>Time:</th>                 <td>00:16:49</td>     <th>  Log-Likelihood:    </th> <td> -42.374</td>\n",
       "</tr>\n",
       "<tr>\n",
       "  <th>No. Observations:</th>      <td>    14</td>      <th>  AIC:               </th> <td>   88.75</td>\n",
       "</tr>\n",
       "<tr>\n",
       "  <th>Df Residuals:</th>          <td>    12</td>      <th>  BIC:               </th> <td>   90.03</td>\n",
       "</tr>\n",
       "<tr>\n",
       "  <th>Df Model:</th>              <td>     1</td>      <th>                     </th>     <td> </td>   \n",
       "</tr>\n",
       "<tr>\n",
       "  <th>Covariance Type:</th>      <td>nonrobust</td>    <th>                     </th>     <td> </td>   \n",
       "</tr>\n",
       "</table>\n",
       "<table class=\"simpletable\">\n",
       "<tr>\n",
       "    <td></td>       <th>coef</th>     <th>std err</th>      <th>t</th>      <th>P>|t|</th>  <th>[0.025</th>    <th>0.975]</th>  \n",
       "</tr>\n",
       "<tr>\n",
       "  <th>const</th> <td>    4.1617</td> <td>    3.355</td> <td>    1.240</td> <td> 0.239</td> <td>   -3.148</td> <td>   11.472</td>\n",
       "</tr>\n",
       "<tr>\n",
       "  <th>x1</th>    <td>   15.5088</td> <td>    0.505</td> <td>   30.712</td> <td> 0.000</td> <td>   14.409</td> <td>   16.609</td>\n",
       "</tr>\n",
       "</table>\n",
       "<table class=\"simpletable\">\n",
       "<tr>\n",
       "  <th>Omnibus:</th>       <td> 0.746</td> <th>  Durbin-Watson:     </th> <td>   2.051</td>\n",
       "</tr>\n",
       "<tr>\n",
       "  <th>Prob(Omnibus):</th> <td> 0.689</td> <th>  Jarque-Bera (JB):  </th> <td>   0.624</td>\n",
       "</tr>\n",
       "<tr>\n",
       "  <th>Skew:</th>          <td>-0.069</td> <th>  Prob(JB):          </th> <td>   0.732</td>\n",
       "</tr>\n",
       "<tr>\n",
       "  <th>Kurtosis:</th>      <td> 1.975</td> <th>  Cond. No.          </th> <td>    15.8</td>\n",
       "</tr>\n",
       "</table><br/><br/>Notes:<br/>[1] Standard Errors assume that the covariance matrix of the errors is correctly specified."
      ],
      "text/plain": [
       "<class 'statsmodels.iolib.summary.Summary'>\n",
       "\"\"\"\n",
       "                            OLS Regression Results                            \n",
       "==============================================================================\n",
       "Dep. Variable:                      y   R-squared:                       0.987\n",
       "Model:                            OLS   Adj. R-squared:                  0.986\n",
       "Method:                 Least Squares   F-statistic:                     943.2\n",
       "Date:                Sat, 05 Mar 2022   Prob (F-statistic):           8.92e-13\n",
       "Time:                        00:16:49   Log-Likelihood:                -42.374\n",
       "No. Observations:                  14   AIC:                             88.75\n",
       "Df Residuals:                      12   BIC:                             90.03\n",
       "Df Model:                           1                                         \n",
       "Covariance Type:            nonrobust                                         \n",
       "==============================================================================\n",
       "                 coef    std err          t      P>|t|      [0.025      0.975]\n",
       "------------------------------------------------------------------------------\n",
       "const          4.1617      3.355      1.240      0.239      -3.148      11.472\n",
       "x1            15.5088      0.505     30.712      0.000      14.409      16.609\n",
       "==============================================================================\n",
       "Omnibus:                        0.746   Durbin-Watson:                   2.051\n",
       "Prob(Omnibus):                  0.689   Jarque-Bera (JB):                0.624\n",
       "Skew:                          -0.069   Prob(JB):                        0.732\n",
       "Kurtosis:                       1.975   Cond. No.                         15.8\n",
       "==============================================================================\n",
       "\n",
       "Notes:\n",
       "[1] Standard Errors assume that the covariance matrix of the errors is correctly specified.\n",
       "\"\"\""
      ]
     },
     "execution_count": 7,
     "metadata": {},
     "output_type": "execute_result"
    }
   ],
   "source": [
    "import statsmodels.api as sm\n",
    "Units1 = sm.add_constant(Units)\n",
    "lm = sm.OLS(Minutes , Units1).fit()\n",
    "lms = lm.summary()\n",
    "lms"
   ]
  },
  {
   "cell_type": "markdown",
   "id": "linear-fiber",
   "metadata": {},
   "source": [
    "### خروجی مدل را به جدول آنالیز واریانس ، ضرایب و آزمون فرض ها ، آماره های مهم تقسیم میکنیم\n",
    "### در جدول اول ستون اول تعداد نمونه(14) ، درجه آزادی مانده ها(12) ، درجه آزادی مدل(1) و در ستون دوم ضریب تعیین(0.987)،ضریب تعیین\n",
    "### تعدیل شده (0.986) ، آماره فیشر برای بررسی مناسبت مدل (943.2) و پی-مقدار آن تقریبا (0.000) محاسبه شده است\n",
    "### تحلیل ضریب تعیین در اینجا یعنی 98.7 درصد تغییرات توسط مدل بیان میشود\n",
    "### همچنین به دلیل کوچکتر بودن پی-مقدار آماره فیشر از سطح معناداری 0.05 ، فرض جانشین آزمون فرض مناسبت مدل یعنی مخالف صفر بودن ضریب  مدل\n",
    "### تایید میشود\n",
    "\n",
    "### در جدول دوم عرض از مبدا(4.1617) ، خطای استاندارد آن(3.355) و همچنین برای آزمون فرض آن آماره تی محاسبه شده 1.240 و پی-مقدار\n",
    "### آن 0.239 محاسبه شده است که به دلیل بزرگتر بودن پی-مقدار از سطح معناداری 0.05 ، فرض صفر آزمون یعنی صفر بودن عرض از مبدا تایید میشود\n",
    "\n",
    "### ضریب متغیر توضیحی نیز 15.5088 ، خطای استاندارد آن 0.505 و همچنین برای آزمون فرض آن آماره تی محاسبه شده 14.409 و پی-مقدار\n",
    "### آن 0.000 محاسبه شده است که به دلیل کوچکتر بودن پی-مقدار از سطح معناداری 0.05 فرض صفر آزمون یعنی صفر بودن ضریب رد میشود\n",
    "\n",
    "### همچنین برای عرض از مبدا و ضریب متغیر توضیحی فاصله اطمینان 95 درصدی محاسبه شده است\n",
    "###  (-3.148 , 11.742) : عرض از مبدا\n",
    "###  (14.409 , 16.609) : ضریب متغیر توضیحی\n",
    "### در اینجا نیز با طویل بودن بازه اطمینان براورد عرض از مبدا به لازم نبودن از چارامتر در مدل پی میبریم.\n",
    "\n",
    "### در جدول سوم نیز آماره دوربین واتسون و همچنین آماره جارکی برا به همرا پی-مقدارش ارئه شده که آماره دوربین واتسون به دلیل نزدیک بودن به 2\n",
    "### نشان از ناهمبسته بودن باقیمانده ها و پی-مقدار آماره جارکی برا به دلیل بزرگرتر بودن از سطح معناداری 0.05 نشان از نرمال بودن توزیع مانده ها دارد\n",
    "\n",
    "### تمام فاکتورهای این مدل مناسب بودند به جز اینکه مدل تاکید دارد که عرض از مبدا از مدل حذف شود که منطقی هم هست چون اگر قطعه ای نیاز به \n",
    "### تعمیر یا تعویض نداشته باشد، سرویسی نیز صورت نمیگیرد که بخواهیم مدت زمان آن را ثبت کنیم\n",
    "\n",
    "### بنابراین مدل بدون عرض از مبدا را برازش میدهیم"
   ]
  },
  {
   "cell_type": "markdown",
   "id": "accredited-worry",
   "metadata": {},
   "source": [
    "### حال مدل خطی بدون عرض از مبدا را برازش میدهیم"
   ]
  },
  {
   "cell_type": "code",
   "execution_count": 8,
   "id": "cutting-yacht",
   "metadata": {},
   "outputs": [
    {
     "name": "stderr",
     "output_type": "stream",
     "text": [
      "C:\\Users\\Persian\\Anaconda3\\envs\\Rpy\\lib\\site-packages\\scipy\\stats\\stats.py:1603: UserWarning: kurtosistest only valid for n>=20 ... continuing anyway, n=14\n",
      "  warnings.warn(\"kurtosistest only valid for n>=20 ... continuing \"\n"
     ]
    },
    {
     "data": {
      "text/html": [
       "<table class=\"simpletable\">\n",
       "<caption>OLS Regression Results</caption>\n",
       "<tr>\n",
       "  <th>Dep. Variable:</th>            <td>y</td>        <th>  R-squared (uncentered):</th>      <td>   0.998</td>\n",
       "</tr>\n",
       "<tr>\n",
       "  <th>Model:</th>                   <td>OLS</td>       <th>  Adj. R-squared (uncentered):</th> <td>   0.997</td>\n",
       "</tr>\n",
       "<tr>\n",
       "  <th>Method:</th>             <td>Least Squares</td>  <th>  F-statistic:       </th>          <td>   5274.</td>\n",
       "</tr>\n",
       "<tr>\n",
       "  <th>Date:</th>             <td>Sat, 05 Mar 2022</td> <th>  Prob (F-statistic):</th>          <td>2.38e-18</td>\n",
       "</tr>\n",
       "<tr>\n",
       "  <th>Time:</th>                 <td>00:16:59</td>     <th>  Log-Likelihood:    </th>          <td> -43.219</td>\n",
       "</tr>\n",
       "<tr>\n",
       "  <th>No. Observations:</th>      <td>    14</td>      <th>  AIC:               </th>          <td>   88.44</td>\n",
       "</tr>\n",
       "<tr>\n",
       "  <th>Df Residuals:</th>          <td>    13</td>      <th>  BIC:               </th>          <td>   89.08</td>\n",
       "</tr>\n",
       "<tr>\n",
       "  <th>Df Model:</th>              <td>     1</td>      <th>                     </th>              <td> </td>   \n",
       "</tr>\n",
       "<tr>\n",
       "  <th>Covariance Type:</th>      <td>nonrobust</td>    <th>                     </th>              <td> </td>   \n",
       "</tr>\n",
       "</table>\n",
       "<table class=\"simpletable\">\n",
       "<tr>\n",
       "   <td></td>     <th>coef</th>     <th>std err</th>      <th>t</th>      <th>P>|t|</th>  <th>[0.025</th>    <th>0.975]</th>  \n",
       "</tr>\n",
       "<tr>\n",
       "  <th>x1</th> <td>   16.0744</td> <td>    0.221</td> <td>   72.625</td> <td> 0.000</td> <td>   15.596</td> <td>   16.553</td>\n",
       "</tr>\n",
       "</table>\n",
       "<table class=\"simpletable\">\n",
       "<tr>\n",
       "  <th>Omnibus:</th>       <td> 0.176</td> <th>  Durbin-Watson:     </th> <td>   1.870</td>\n",
       "</tr>\n",
       "<tr>\n",
       "  <th>Prob(Omnibus):</th> <td> 0.916</td> <th>  Jarque-Bera (JB):  </th> <td>   0.341</td>\n",
       "</tr>\n",
       "<tr>\n",
       "  <th>Skew:</th>          <td>-0.196</td> <th>  Prob(JB):          </th> <td>   0.843</td>\n",
       "</tr>\n",
       "<tr>\n",
       "  <th>Kurtosis:</th>      <td> 2.343</td> <th>  Cond. No.          </th> <td>    1.00</td>\n",
       "</tr>\n",
       "</table><br/><br/>Notes:<br/>[1] R² is computed without centering (uncentered) since the model does not contain a constant.<br/>[2] Standard Errors assume that the covariance matrix of the errors is correctly specified."
      ],
      "text/plain": [
       "<class 'statsmodels.iolib.summary.Summary'>\n",
       "\"\"\"\n",
       "                                 OLS Regression Results                                \n",
       "=======================================================================================\n",
       "Dep. Variable:                      y   R-squared (uncentered):                   0.998\n",
       "Model:                            OLS   Adj. R-squared (uncentered):              0.997\n",
       "Method:                 Least Squares   F-statistic:                              5274.\n",
       "Date:                Sat, 05 Mar 2022   Prob (F-statistic):                    2.38e-18\n",
       "Time:                        00:16:59   Log-Likelihood:                         -43.219\n",
       "No. Observations:                  14   AIC:                                      88.44\n",
       "Df Residuals:                      13   BIC:                                      89.08\n",
       "Df Model:                           1                                                  \n",
       "Covariance Type:            nonrobust                                                  \n",
       "==============================================================================\n",
       "                 coef    std err          t      P>|t|      [0.025      0.975]\n",
       "------------------------------------------------------------------------------\n",
       "x1            16.0744      0.221     72.625      0.000      15.596      16.553\n",
       "==============================================================================\n",
       "Omnibus:                        0.176   Durbin-Watson:                   1.870\n",
       "Prob(Omnibus):                  0.916   Jarque-Bera (JB):                0.341\n",
       "Skew:                          -0.196   Prob(JB):                        0.843\n",
       "Kurtosis:                       2.343   Cond. No.                         1.00\n",
       "==============================================================================\n",
       "\n",
       "Notes:\n",
       "[1] R² is computed without centering (uncentered) since the model does not contain a constant.\n",
       "[2] Standard Errors assume that the covariance matrix of the errors is correctly specified.\n",
       "\"\"\""
      ]
     },
     "execution_count": 8,
     "metadata": {},
     "output_type": "execute_result"
    }
   ],
   "source": [
    "lm1 = sm.OLS(Minutes , Units).fit()\n",
    "lm1.summary()"
   ]
  },
  {
   "cell_type": "markdown",
   "id": "favorite-sound",
   "metadata": {},
   "source": [
    "### در جدول اول ، درستون اول تعداد نمونه(14) ، درجه آزادی مدل(1) ، درجه آزادی مانده ها(13) ارائه شده که توزیع آنها کی دو میباشد و در ستون \n",
    "### دوم ، ضریب تعیین(0.998)،ضریب تعیین تعدیل شده(0.997) ، آماره فیشر(5274) و پی-مقدار آن تقریبا(0.000) محاسبه شده است.\n",
    "### تفسیر ضریب تعیین در اینجا یعنی 99.8 درصد تغییرات توسط مدل بیان میشود\n",
    "### همچنین پی-مقدار آزمون فرض مناسبت مدل که آماره آن فیشر هست به دلیل کوچکتر بودن از سطح معناداری 0.05 ، فرض جانشین آزمون یعنی\n",
    "### مخالف صفر بودن ضریب متغیر توضیحی را تایید میکند\n",
    "\n",
    "### در جدول دوم ، ضریب متغیر توضیحی(16.0744) ، خطای استاندارد آن(0.221) براورد شده است و همچنین برای آزمون فرض ضریب\n",
    "### آماره تی محاسبه شده(72.625) و پی-مقدار آن (0.000) محاسبه شده است که به دلیل کوچکتر بودن پی-مقدار از سطح آزمون 0.05 ،  \n",
    "### فرض جانشین آزمون یعنی مخالف صفر بودن ضریب تایید میشود\n",
    "\n",
    "### تفسیر شیب مدل برازش داده شده این است که میزان تغییرپذیری در میانگین متغیر پاسخ را وقتی که به متغیر توضیحی یک واحد اضافه \n",
    "### : میکنیم مشخص میکند ، برای مثال در این مدل\n",
    "### y = 16.0744*(x+1) ----->>> y = 16.0744*x + 16.0744\n",
    "\n",
    "### :همچنین برای ضریب متغیر توضیحی یک فاصله اطمینان به صورت زیر محاسبه شده است\n",
    "### (15.596 , 16.553)\n",
    "\n",
    "### در جدول سوم نیز آماره دوربین واتسون(1.870) ، آماره جارکی برا(0.341) و پی مقدار آن(0.843) محاسبه شده است\n",
    "### .در ادامه به تفسیر آماره دوربین واتسون و پی-مقدار آماره جارکی برا میپردازیم که مربوط به تحلیل مانده ها میباشد\n",
    "\n",
    "### با توجه به فاکتورها ی مدل ، مدلی مناسب ارائه داده ایم و فقط باید تایید نهایی یعنی تاییدیه تحلیل مانده ها بگیریم ***\n",
    "\n",
    "### مقدار آماره دوربین واتسون هموار بین 0 تا 4 قرا میگیرد. اگر همبستگی بین داده ها وجود نداشته باشد باید آماره نزدیک به 2 باشد، اگر\n",
    "### نزدیک به 0 باشد،یعنی همبستگی مثبت دارد و اگر نزدیک 4 باشد یعنی همبستگی منفی دارد.در مجموع اگر این آماره بین 1.5 تا 2.5 باشد\n",
    "### .قابل قبول است\n",
    "### .با توجه به مقدار آماره دوربین واتسون درمیابیم که مانده ها ناهمبسته هستند\n",
    "\n",
    "### از پی-مقدار آماره جارکی برا برای آزمون فرض نرمال بودن داده ها استفاده میشود. بنابراین با توجه به مقدار پی-مقدار فرض صفر آزمون \n",
    "### . یعنی نرمال بودن مانده ها تایید میشود"
   ]
  },
  {
   "cell_type": "markdown",
   "id": "threaded-bolivia",
   "metadata": {},
   "source": [
    "### .حال به تحلیل مانده ها میپردازیم\n",
    "### .ابتدا باقیمانده ها و مقادیر برازش شده ی مدل را جدا کرده و در یک دیتافریم ذخیره میکنیم"
   ]
  },
  {
   "cell_type": "code",
   "execution_count": 9,
   "id": "touched-collect",
   "metadata": {},
   "outputs": [
    {
     "data": {
      "text/html": [
       "<div>\n",
       "<style scoped>\n",
       "    .dataframe tbody tr th:only-of-type {\n",
       "        vertical-align: middle;\n",
       "    }\n",
       "\n",
       "    .dataframe tbody tr th {\n",
       "        vertical-align: top;\n",
       "    }\n",
       "\n",
       "    .dataframe thead th {\n",
       "        text-align: right;\n",
       "    }\n",
       "</style>\n",
       "<table border=\"1\" class=\"dataframe\">\n",
       "  <thead>\n",
       "    <tr style=\"text-align: right;\">\n",
       "      <th></th>\n",
       "      <th>resi</th>\n",
       "      <th>fit_value</th>\n",
       "    </tr>\n",
       "  </thead>\n",
       "  <tbody>\n",
       "    <tr>\n",
       "      <th>0</th>\n",
       "      <td>6.925566</td>\n",
       "      <td>16.074434</td>\n",
       "    </tr>\n",
       "    <tr>\n",
       "      <th>1</th>\n",
       "      <td>-3.148867</td>\n",
       "      <td>32.148867</td>\n",
       "    </tr>\n",
       "    <tr>\n",
       "      <th>2</th>\n",
       "      <td>0.776699</td>\n",
       "      <td>48.223301</td>\n",
       "    </tr>\n",
       "    <tr>\n",
       "      <th>3</th>\n",
       "      <td>-0.297735</td>\n",
       "      <td>64.297735</td>\n",
       "    </tr>\n",
       "    <tr>\n",
       "      <th>4</th>\n",
       "      <td>9.702265</td>\n",
       "      <td>64.297735</td>\n",
       "    </tr>\n",
       "    <tr>\n",
       "      <th>5</th>\n",
       "      <td>6.627832</td>\n",
       "      <td>80.372168</td>\n",
       "    </tr>\n",
       "    <tr>\n",
       "      <th>6</th>\n",
       "      <td>-0.446602</td>\n",
       "      <td>96.446602</td>\n",
       "    </tr>\n",
       "    <tr>\n",
       "      <th>7</th>\n",
       "      <td>0.553398</td>\n",
       "      <td>96.446602</td>\n",
       "    </tr>\n",
       "    <tr>\n",
       "      <th>8</th>\n",
       "      <td>-3.521036</td>\n",
       "      <td>112.521036</td>\n",
       "    </tr>\n",
       "    <tr>\n",
       "      <th>9</th>\n",
       "      <td>-9.595469</td>\n",
       "      <td>128.595469</td>\n",
       "    </tr>\n",
       "    <tr>\n",
       "      <th>10</th>\n",
       "      <td>4.330097</td>\n",
       "      <td>144.669903</td>\n",
       "    </tr>\n",
       "    <tr>\n",
       "      <th>11</th>\n",
       "      <td>0.330097</td>\n",
       "      <td>144.669903</td>\n",
       "    </tr>\n",
       "    <tr>\n",
       "      <th>12</th>\n",
       "      <td>-6.744337</td>\n",
       "      <td>160.744337</td>\n",
       "    </tr>\n",
       "    <tr>\n",
       "      <th>13</th>\n",
       "      <td>5.255663</td>\n",
       "      <td>160.744337</td>\n",
       "    </tr>\n",
       "  </tbody>\n",
       "</table>\n",
       "</div>"
      ],
      "text/plain": [
       "        resi   fit_value\n",
       "0   6.925566   16.074434\n",
       "1  -3.148867   32.148867\n",
       "2   0.776699   48.223301\n",
       "3  -0.297735   64.297735\n",
       "4   9.702265   64.297735\n",
       "5   6.627832   80.372168\n",
       "6  -0.446602   96.446602\n",
       "7   0.553398   96.446602\n",
       "8  -3.521036  112.521036\n",
       "9  -9.595469  128.595469\n",
       "10  4.330097  144.669903\n",
       "11  0.330097  144.669903\n",
       "12 -6.744337  160.744337\n",
       "13  5.255663  160.744337"
      ]
     },
     "execution_count": 9,
     "metadata": {},
     "output_type": "execute_result"
    }
   ],
   "source": [
    "import pandas as pd\n",
    "resi = lm1.resid\n",
    "fit_value = lm1.predict(Units)\n",
    "data1 = pd.DataFrame({'resi': resi , 'fit_value': fit_value})\n",
    "data1"
   ]
  },
  {
   "cell_type": "markdown",
   "id": "fleet-dubai",
   "metadata": {},
   "source": [
    "### نمودار چندک چندک که برای مطابقت داده ها(مانده ها) با توزیع نرمال است و بر اساس توزیع تجربی داده ها ترسیم میشود را رسم میکنیم، خط نمودار\n",
    "### نیز بر اساس توزیع نرمال با میانگین صفر و واریانس یک رسم شده است و هرچه که نقاط نمودار به خط ترسیم شده نزدیک تر و بر آن منطبق تر باشند\n",
    "### .نرمال بودن داده ها با قوت بیشتری تایید میشود"
   ]
  },
  {
   "cell_type": "code",
   "execution_count": 10,
   "id": "behavioral-matrix",
   "metadata": {},
   "outputs": [
    {
     "name": "stderr",
     "output_type": "stream",
     "text": [
      "C:\\Users\\Persian\\Anaconda3\\envs\\Rpy\\lib\\site-packages\\statsmodels\\graphics\\gofplots.py:993: UserWarning: marker is redundantly defined by the 'marker' keyword argument and the fmt string \"bo\" (-> marker='o'). The keyword argument will take precedence.\n",
      "  ax.plot(x, y, fmt, **plot_style)\n"
     ]
    },
    {
     "data": {
      "image/png": "[encoded data removed]",
      "text/plain": [
       "<Figure size 432x288 with 1 Axes>"
      ]
     },
     "metadata": {
      "needs_background": "light"
     },
     "output_type": "display_data"
    }
   ],
   "source": [
    "from statsmodels.graphics import gofplots as sgg\n",
    "sgg.qqplot(data1['resi'] , line = 's')\n",
    "plt.show()"
   ]
  },
  {
   "cell_type": "markdown",
   "id": "parental-highway",
   "metadata": {},
   "source": [
    "### .با توجه به نمودار فرض نرمال بودن داده ها تایید میشود"
   ]
  },
  {
   "cell_type": "markdown",
   "id": "serious-whale",
   "metadata": {},
   "source": [
    "### .برای اطمینان از این ادعا به استنباط آماری درباره توزیع مانده ها میپردازیم"
   ]
  },
  {
   "cell_type": "code",
   "execution_count": 11,
   "id": "finished-tulsa",
   "metadata": {},
   "outputs": [
    {
     "name": "stdout",
     "output_type": "stream",
     "text": [
      "ShapiroResult(statistic=0.9721834659576416, pvalue=0.9044274091720581)\n",
      "NormaltestResult(statistic=0.17646152113307798, pvalue=0.9155495796050577)\n",
      "Anderson.result   statistic :  0.2245104816353507\n",
      "15.0  :  0.497\n",
      "10.0  :  0.566\n",
      "5.0  :  0.68\n",
      "2.5  :  0.793\n",
      "1.0  :  0.943\n"
     ]
    },
    {
     "name": "stderr",
     "output_type": "stream",
     "text": [
      "C:\\Users\\Persian\\Anaconda3\\envs\\Rpy\\lib\\site-packages\\scipy\\stats\\stats.py:1603: UserWarning: kurtosistest only valid for n>=20 ... continuing anyway, n=14\n",
      "  warnings.warn(\"kurtosistest only valid for n>=20 ... continuing \"\n"
     ]
    }
   ],
   "source": [
    "a = ss.shapiro(data1['resi'])\n",
    "b = ss.normaltest(data1['resi'])\n",
    "c = ss.anderson(data1['resi'])\n",
    "\n",
    "print(a) ; print(b)\n",
    "\n",
    "print('Anderson.result','  statistic : ',c.statistic) ; cpp = c.statistic\n",
    "for i in range(len(c.critical_values)):\n",
    "    q = c.significance_level[i] ; w = c.critical_values[i]\n",
    "    print(q,' : ',w)\n",
    "    if q == 5 :\n",
    "        cp = w"
   ]
  },
  {
   "cell_type": "markdown",
   "id": "consolidated-protest",
   "metadata": {},
   "source": [
    "### در خروجی مدل نیز با استفاده از آماره جارکی برا و پی-مقدار آن نرمال بودن ماند ها را تایید کردیم ، در اینجا نیز با کمک آزمون فرض شاپیرو ویلک \n",
    "### .اندرسون دارلینگ و نرمال تست و به دلیل بزرگتر بودن پی-مقدار آنها از 0.05 از نرمال بودن توزیع مانده ها مطمئن میشویم\n",
    "\n",
    "### 0.9044274091720581 : پی-مقدار آزمون شاپیرو ویلک\n",
    "### 0.9155495796050577 : پی-مقدار آزمون نرمال تست\n",
    "### 0.68               : پی-مقدار آزمون اندرسون دارلینگ"
   ]
  },
  {
   "cell_type": "markdown",
   "id": "former-tablet",
   "metadata": {},
   "source": [
    "### نمودار پراکنش مقادیر مانده ها در برابر مقادیر برازش شده را رسم میکنیم ، از این نمودار برای بررسی فرض خطی بودن مدل و همگنی واریانس خطاها استفاده میکنیم"
   ]
  },
  {
   "cell_type": "code",
   "execution_count": 12,
   "id": "accredited-innocent",
   "metadata": {},
   "outputs": [
    {
     "data": {
      "image/png": "[encoded data removed]",
      "text/plain": [
       "<Figure size 432x288 with 1 Axes>"
      ]
     },
     "metadata": {
      "needs_background": "light"
     },
     "output_type": "display_data"
    }
   ],
   "source": [
    "plt.scatter(x = data1['fit_value'] , y = data1['resi'] , color = 'red')\n",
    "plt.axhline(0)\n",
    "plt.axhline(10 , color = 'yellow')\n",
    "plt.axhline(-10 , color = 'yellow')\n",
    "plt.show()"
   ]
  },
  {
   "cell_type": "markdown",
   "id": "creative-explanation",
   "metadata": {},
   "source": [
    "### با توجه به اینکه نقاط نمودار در یک نوار افقی و حول محور صفر به صورت تصادفی و بدون داشتن الگوی خاصی توزیع شده اند ،بنابراین فرض خطی بودن مدل تایید میشود\n",
    "\n",
    "### با توجه به اینکه پراکندگی نقاط نمودار در سرتاسر محور افقی یکسان است و الگوی خاصی ندارد ، بنابراین فرض همگنی واریانس خطاها نیز تایید میشود"
   ]
  },
  {
   "cell_type": "markdown",
   "id": "christian-description",
   "metadata": {},
   "source": [
    "### .حال فرض ناهمبسته بودن خطاها را بررسی میکنیم"
   ]
  },
  {
   "cell_type": "code",
   "execution_count": 13,
   "id": "european-prerequisite",
   "metadata": {},
   "outputs": [
    {
     "data": {
      "image/png": "[encoded data removed]",
      "text/plain": [
       "<Figure size 432x288 with 1 Axes>"
      ]
     },
     "metadata": {
      "needs_background": "light"
     },
     "output_type": "display_data"
    }
   ],
   "source": [
    "sm.graphics.tsa.plot_acf(data1['resi'] , color = 'red')\n",
    "plt.show()"
   ]
  },
  {
   "cell_type": "markdown",
   "id": "incident-elizabeth",
   "metadata": {},
   "source": [
    "### با توجه به نمودار خودهمبستگی مانده ها ، چون تمام لگ ها به جز لگ صفر ، همه داخل بازه اطمینانشان هستند و کوچک هم هستند ، بنابراین\n",
    "### .ناهمبسته بودن مانده ها تایید میشود\n",
    "\n",
    "### .البته در خروجی مدل با استفاده از آماره دوربین واتسون نیز ناهمبسته بودن مانده ها تایید شده بود"
   ]
  },
  {
   "cell_type": "markdown",
   "id": "million-fiction",
   "metadata": {},
   "source": [
    "##  : نتیجه گیری تحلیل مانده ها\n",
    "### .هرچهار فرض بنیادی تایید شدند\n",
    "\n",
    "#### فرض خطی بودن مدل رگرسیونی \n",
    "#### فرض همگن بودن واریانس خطاها\n",
    "#### فرض ناهمبسته بودن خطاها\n",
    "#### فرض نرمال بودن خطاها"
   ]
  },
  {
   "cell_type": "markdown",
   "id": "cloudy-tyler",
   "metadata": {},
   "source": [
    "# نتیجه گیری نهایی\n",
    "\n",
    "## : مدل زیر مورد تایید میباشد\n",
    "\n",
    "## y = 16.0744*x\n",
    "## y : مدت زمان سرویس\n",
    "## x : تعداد قطعات تعمیر یا تعویض شده"
   ]
  }
 ],
 "metadata": {
  "kernelspec": {
   "display_name": "Python 3.9.2 64-bit",
   "language": "python",
   "name": "python3"
  },
  "language_info": {
   "codemirror_mode": {
    "name": "ipython",
    "version": 3
   },
   "file_extension": ".py",
   "mimetype": "text/x-python",
   "name": "python",
   "nbconvert_exporter": "python",
   "pygments_lexer": "ipython3",
   "version": "3.9.2"
  },
  "vscode": {
   "interpreter": {
    "hash": "5726f6cfe32731d3f79b45eabe797fb8ca397ec50c9b6dce11302f21d5ca2ab1"
   }
  }
 },
 "nbformat": 4,
 "nbformat_minor": 5
}
